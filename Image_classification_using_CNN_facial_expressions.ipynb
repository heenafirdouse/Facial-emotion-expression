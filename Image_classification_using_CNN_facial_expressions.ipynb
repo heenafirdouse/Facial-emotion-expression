{
  "nbformat": 4,
  "nbformat_minor": 0,
  "metadata": {
    "colab": {
      "provenance": []
    },
    "kernelspec": {
      "name": "python3",
      "display_name": "Python 3"
    },
    "language_info": {
      "name": "python"
    }
  },
  "cells": [
    {
      "cell_type": "code",
      "execution_count": null,
      "metadata": {
        "colab": {
          "base_uri": "https://localhost:8080/"
        },
        "id": "cCHQiJgRUeCx",
        "outputId": "c06d1bd8-09b9-44ca-b64d-847561cd19ee"
      },
      "outputs": [
        {
          "output_type": "stream",
          "name": "stdout",
          "text": [
            "Looking in indexes: https://pypi.org/simple, https://us-python.pkg.dev/colab-wheels/public/simple/\n",
            "Requirement already satisfied: kaggle in /usr/local/lib/python3.9/dist-packages (1.5.13)\n",
            "Requirement already satisfied: tqdm in /usr/local/lib/python3.9/dist-packages (from kaggle) (4.65.0)\n",
            "Requirement already satisfied: urllib3 in /usr/local/lib/python3.9/dist-packages (from kaggle) (1.26.15)\n",
            "Requirement already satisfied: python-dateutil in /usr/local/lib/python3.9/dist-packages (from kaggle) (2.8.2)\n",
            "Requirement already satisfied: requests in /usr/local/lib/python3.9/dist-packages (from kaggle) (2.27.1)\n",
            "Requirement already satisfied: certifi in /usr/local/lib/python3.9/dist-packages (from kaggle) (2022.12.7)\n",
            "Requirement already satisfied: python-slugify in /usr/local/lib/python3.9/dist-packages (from kaggle) (8.0.1)\n",
            "Requirement already satisfied: six>=1.10 in /usr/local/lib/python3.9/dist-packages (from kaggle) (1.16.0)\n",
            "Requirement already satisfied: text-unidecode>=1.3 in /usr/local/lib/python3.9/dist-packages (from python-slugify->kaggle) (1.3)\n",
            "Requirement already satisfied: idna<4,>=2.5 in /usr/local/lib/python3.9/dist-packages (from requests->kaggle) (3.4)\n",
            "Requirement already satisfied: charset-normalizer~=2.0.0 in /usr/local/lib/python3.9/dist-packages (from requests->kaggle) (2.0.12)\n"
          ]
        }
      ],
      "source": [
        "!pip install kaggle"
      ]
    },
    {
      "cell_type": "code",
      "source": [
        "from google.colab import files\n",
        "files.upload()"
      ],
      "metadata": {
        "colab": {
          "base_uri": "https://localhost:8080/",
          "height": 90
        },
        "id": "xa5Gf7KRUmCB",
        "outputId": "04c76698-8f11-4109-b8ba-58ee2784e6a0"
      },
      "execution_count": null,
      "outputs": [
        {
          "output_type": "display_data",
          "data": {
            "text/plain": [
              "<IPython.core.display.HTML object>"
            ],
            "text/html": [
              "\n",
              "     <input type=\"file\" id=\"files-ed3b21d9-5f52-4dd2-b374-e226b08c6b33\" name=\"files[]\" multiple disabled\n",
              "        style=\"border:none\" />\n",
              "     <output id=\"result-ed3b21d9-5f52-4dd2-b374-e226b08c6b33\">\n",
              "      Upload widget is only available when the cell has been executed in the\n",
              "      current browser session. Please rerun this cell to enable.\n",
              "      </output>\n",
              "      <script>// Copyright 2017 Google LLC\n",
              "//\n",
              "// Licensed under the Apache License, Version 2.0 (the \"License\");\n",
              "// you may not use this file except in compliance with the License.\n",
              "// You may obtain a copy of the License at\n",
              "//\n",
              "//      http://www.apache.org/licenses/LICENSE-2.0\n",
              "//\n",
              "// Unless required by applicable law or agreed to in writing, software\n",
              "// distributed under the License is distributed on an \"AS IS\" BASIS,\n",
              "// WITHOUT WARRANTIES OR CONDITIONS OF ANY KIND, either express or implied.\n",
              "// See the License for the specific language governing permissions and\n",
              "// limitations under the License.\n",
              "\n",
              "/**\n",
              " * @fileoverview Helpers for google.colab Python module.\n",
              " */\n",
              "(function(scope) {\n",
              "function span(text, styleAttributes = {}) {\n",
              "  const element = document.createElement('span');\n",
              "  element.textContent = text;\n",
              "  for (const key of Object.keys(styleAttributes)) {\n",
              "    element.style[key] = styleAttributes[key];\n",
              "  }\n",
              "  return element;\n",
              "}\n",
              "\n",
              "// Max number of bytes which will be uploaded at a time.\n",
              "const MAX_PAYLOAD_SIZE = 100 * 1024;\n",
              "\n",
              "function _uploadFiles(inputId, outputId) {\n",
              "  const steps = uploadFilesStep(inputId, outputId);\n",
              "  const outputElement = document.getElementById(outputId);\n",
              "  // Cache steps on the outputElement to make it available for the next call\n",
              "  // to uploadFilesContinue from Python.\n",
              "  outputElement.steps = steps;\n",
              "\n",
              "  return _uploadFilesContinue(outputId);\n",
              "}\n",
              "\n",
              "// This is roughly an async generator (not supported in the browser yet),\n",
              "// where there are multiple asynchronous steps and the Python side is going\n",
              "// to poll for completion of each step.\n",
              "// This uses a Promise to block the python side on completion of each step,\n",
              "// then passes the result of the previous step as the input to the next step.\n",
              "function _uploadFilesContinue(outputId) {\n",
              "  const outputElement = document.getElementById(outputId);\n",
              "  const steps = outputElement.steps;\n",
              "\n",
              "  const next = steps.next(outputElement.lastPromiseValue);\n",
              "  return Promise.resolve(next.value.promise).then((value) => {\n",
              "    // Cache the last promise value to make it available to the next\n",
              "    // step of the generator.\n",
              "    outputElement.lastPromiseValue = value;\n",
              "    return next.value.response;\n",
              "  });\n",
              "}\n",
              "\n",
              "/**\n",
              " * Generator function which is called between each async step of the upload\n",
              " * process.\n",
              " * @param {string} inputId Element ID of the input file picker element.\n",
              " * @param {string} outputId Element ID of the output display.\n",
              " * @return {!Iterable<!Object>} Iterable of next steps.\n",
              " */\n",
              "function* uploadFilesStep(inputId, outputId) {\n",
              "  const inputElement = document.getElementById(inputId);\n",
              "  inputElement.disabled = false;\n",
              "\n",
              "  const outputElement = document.getElementById(outputId);\n",
              "  outputElement.innerHTML = '';\n",
              "\n",
              "  const pickedPromise = new Promise((resolve) => {\n",
              "    inputElement.addEventListener('change', (e) => {\n",
              "      resolve(e.target.files);\n",
              "    });\n",
              "  });\n",
              "\n",
              "  const cancel = document.createElement('button');\n",
              "  inputElement.parentElement.appendChild(cancel);\n",
              "  cancel.textContent = 'Cancel upload';\n",
              "  const cancelPromise = new Promise((resolve) => {\n",
              "    cancel.onclick = () => {\n",
              "      resolve(null);\n",
              "    };\n",
              "  });\n",
              "\n",
              "  // Wait for the user to pick the files.\n",
              "  const files = yield {\n",
              "    promise: Promise.race([pickedPromise, cancelPromise]),\n",
              "    response: {\n",
              "      action: 'starting',\n",
              "    }\n",
              "  };\n",
              "\n",
              "  cancel.remove();\n",
              "\n",
              "  // Disable the input element since further picks are not allowed.\n",
              "  inputElement.disabled = true;\n",
              "\n",
              "  if (!files) {\n",
              "    return {\n",
              "      response: {\n",
              "        action: 'complete',\n",
              "      }\n",
              "    };\n",
              "  }\n",
              "\n",
              "  for (const file of files) {\n",
              "    const li = document.createElement('li');\n",
              "    li.append(span(file.name, {fontWeight: 'bold'}));\n",
              "    li.append(span(\n",
              "        `(${file.type || 'n/a'}) - ${file.size} bytes, ` +\n",
              "        `last modified: ${\n",
              "            file.lastModifiedDate ? file.lastModifiedDate.toLocaleDateString() :\n",
              "                                    'n/a'} - `));\n",
              "    const percent = span('0% done');\n",
              "    li.appendChild(percent);\n",
              "\n",
              "    outputElement.appendChild(li);\n",
              "\n",
              "    const fileDataPromise = new Promise((resolve) => {\n",
              "      const reader = new FileReader();\n",
              "      reader.onload = (e) => {\n",
              "        resolve(e.target.result);\n",
              "      };\n",
              "      reader.readAsArrayBuffer(file);\n",
              "    });\n",
              "    // Wait for the data to be ready.\n",
              "    let fileData = yield {\n",
              "      promise: fileDataPromise,\n",
              "      response: {\n",
              "        action: 'continue',\n",
              "      }\n",
              "    };\n",
              "\n",
              "    // Use a chunked sending to avoid message size limits. See b/62115660.\n",
              "    let position = 0;\n",
              "    do {\n",
              "      const length = Math.min(fileData.byteLength - position, MAX_PAYLOAD_SIZE);\n",
              "      const chunk = new Uint8Array(fileData, position, length);\n",
              "      position += length;\n",
              "\n",
              "      const base64 = btoa(String.fromCharCode.apply(null, chunk));\n",
              "      yield {\n",
              "        response: {\n",
              "          action: 'append',\n",
              "          file: file.name,\n",
              "          data: base64,\n",
              "        },\n",
              "      };\n",
              "\n",
              "      let percentDone = fileData.byteLength === 0 ?\n",
              "          100 :\n",
              "          Math.round((position / fileData.byteLength) * 100);\n",
              "      percent.textContent = `${percentDone}% done`;\n",
              "\n",
              "    } while (position < fileData.byteLength);\n",
              "  }\n",
              "\n",
              "  // All done.\n",
              "  yield {\n",
              "    response: {\n",
              "      action: 'complete',\n",
              "    }\n",
              "  };\n",
              "}\n",
              "\n",
              "scope.google = scope.google || {};\n",
              "scope.google.colab = scope.google.colab || {};\n",
              "scope.google.colab._files = {\n",
              "  _uploadFiles,\n",
              "  _uploadFilesContinue,\n",
              "};\n",
              "})(self);\n",
              "</script> "
            ]
          },
          "metadata": {}
        },
        {
          "output_type": "stream",
          "name": "stdout",
          "text": [
            "Saving kaggle.json to kaggle.json\n"
          ]
        },
        {
          "output_type": "execute_result",
          "data": {
            "text/plain": [
              "{'kaggle.json': b'{\"username\":\"heenafirdouse\",\"key\":\"87919880e093fbc8a9a984e56b8639e9\"}'}"
            ]
          },
          "metadata": {},
          "execution_count": 2
        }
      ]
    },
    {
      "cell_type": "code",
      "source": [
        "!mkdir ~/.kaggle\n",
        "!cp kaggle.json ~/.kaggle/\n",
        "!chmod 600 ~/.kaggle/kaggle.json"
      ],
      "metadata": {
        "id": "7jUNGQTjUrTj"
      },
      "execution_count": null,
      "outputs": []
    },
    {
      "cell_type": "code",
      "source": [
        "!kaggle datasets download -d samaneheslamifar/facial-emotion-expressions"
      ],
      "metadata": {
        "colab": {
          "base_uri": "https://localhost:8080/"
        },
        "id": "wA5TM1k6U6Gn",
        "outputId": "7c3c9b1c-24fe-4104-a275-d5a8744d0fba"
      },
      "execution_count": null,
      "outputs": [
        {
          "output_type": "stream",
          "name": "stdout",
          "text": [
            "Downloading facial-emotion-expressions.zip to /content\n",
            " 96% 116M/121M [00:00<00:00, 175MB/s] \n",
            "100% 121M/121M [00:00<00:00, 157MB/s]\n"
          ]
        }
      ]
    },
    {
      "cell_type": "code",
      "source": [
        "#!unzip /content/facial-emotion-expressions.zip"
      ],
      "metadata": {
        "id": "Iou8johpUwRu"
      },
      "execution_count": null,
      "outputs": []
    },
    {
      "cell_type": "code",
      "source": [
        "import torch\n",
        "import torchvision\n",
        "import torchvision.transforms as transforms\n",
        "from torchvision import datasets\n",
        "import matplotlib.pyplot as plt"
      ],
      "metadata": {
        "id": "odk-J1qYXntW"
      },
      "execution_count": null,
      "outputs": []
    },
    {
      "cell_type": "code",
      "source": [
        "train_transforms = transforms.Compose([\n",
        "    transforms.Resize((48, 48)),#[1]resized to a height of 48 pixels and a width of 48 pixels. \n",
        "    transforms.RandomHorizontalFlip(),#[1]\n",
        "    transforms.ToTensor(),#[1]\n",
        "    transforms.Normalize((0.5, 0.5, 0.5), (0.5, 0.5, 0.5))#[2]\n",
        "])\n",
        "\n",
        "val_transforms = transforms.Compose([\n",
        "    transforms.Resize((48, 48)),#[1]\n",
        "    transforms.ToTensor(),#[1]\n",
        "    transforms.Normalize((0.5, 0.5, 0.5), (0.5, 0.5, 0.5))#[2]\n",
        "])"
      ],
      "metadata": {
        "id": "UlvdL9Q9WnfM"
      },
      "execution_count": null,
      "outputs": []
    },
    {
      "cell_type": "code",
      "source": [
        "train_data = datasets.ImageFolder(\"/content/images/train\", transform=train_transforms)#[1]\n",
        "val_data = datasets.ImageFolder(\"/content/images/validation\", transform=val_transforms)#[1]\n",
        "print(f\"Number of training examples: {len(train_data)}\")\n",
        "print(f\"Number of validation examples: {len(val_data)}\")"
      ],
      "metadata": {
        "colab": {
          "base_uri": "https://localhost:8080/"
        },
        "id": "6TN0ZUINWnlE",
        "outputId": "cfa8233b-06b1-4bd7-e619-bb6f6645d1d2"
      },
      "execution_count": null,
      "outputs": [
        {
          "output_type": "stream",
          "name": "stdout",
          "text": [
            "Number of training examples: 28821\n",
            "Number of validation examples: 7066\n"
          ]
        }
      ]
    },
    {
      "cell_type": "code",
      "source": [
        "#plot the distribution of categories in the training and validation datasets\n",
        "import numpy as np\n",
        "categories = ('angry', 'disgust', 'fear', 'happy', 'sad', 'surprise', 'neutral')\n",
        "\n",
        "# number of examples per class in the training data\n",
        "train_example = []\n",
        "for i in range(7):\n",
        "    train_example.append(np.sum(np.array(train_data.targets) == i))\n",
        "\n",
        "#  number of examples per class in the validation data\n",
        "val_example = []\n",
        "for i in range(7):\n",
        "    val_example.append(np.sum(np.array(val_data.targets) == i))\n",
        "\n",
        "fig, ax = plt.subplots()\n",
        "ax.bar(categories, train_example, label='Train')\n",
        "ax.bar(categories, val_example, label='Validation')\n",
        "ax.set_xticklabels(categories, rotation=10)\n",
        "ax.legend()\n",
        "ax.set_ylabel('Number of Images')\n",
        "ax.set_title('Categories Distribution in Train and Validation Datasets')\n",
        "plt.show()"
      ],
      "metadata": {
        "colab": {
          "base_uri": "https://localhost:8080/",
          "height": 323
        },
        "id": "s6eHK_p9YO-C",
        "outputId": "4516615a-2714-4bb7-a804-c54f4843b121"
      },
      "execution_count": null,
      "outputs": [
        {
          "output_type": "stream",
          "name": "stderr",
          "text": [
            "<ipython-input-18-086de3b8dafe>:22: UserWarning: FixedFormatter should only be used together with FixedLocator\n",
            "  ax.set_xticklabels(categories, rotation=10)\n"
          ]
        },
        {
          "output_type": "display_data",
          "data": {
            "text/plain": [
              "<Figure size 432x288 with 1 Axes>"
            ],
            "image/png": "[encoded data removed]"
          },
          "metadata": {
            "needs_background": "light"
          }
        }
      ]
    },
    {
      "cell_type": "code",
      "source": [
        "import torch.nn as nn\n",
        "import torch.optim as optim\n",
        "from torch.utils.data import DataLoader\n",
        "import matplotlib.pyplot as plt"
      ],
      "metadata": {
        "id": "NBB86k4dYTpY"
      },
      "execution_count": null,
      "outputs": []
    },
    {
      "cell_type": "code",
      "source": [
        "#CNN architecture\n",
        "\n",
        "class CNN(nn.Module):\n",
        "    def __init__(self):#[3]\n",
        "        super(CNN, self).__init__()[3]\n",
        "        self.conv1 = nn.Conv2d(3, 16, kernel_size=3, stride=1, padding=1)#[3] updated parameters kernel size and padding\n",
        "        self.conv2 = nn.Conv2d(16, 32, kernel_size=3, stride=1, padding=1)#[3] updated parameters kernel size and padding\n",
        "        self.pool = nn.MaxPool2d(kernel_size=2, stride=2)[3]\n",
        "        self.fc1 = nn.Linear(32 * 12 * 12, 512)#[3] updated output size\n",
        "        self.fc2 = nn.Linear(512, 7)#[3]\n",
        "\n",
        "    def forward(self, x):#[3]\n",
        "        x = self.pool(torch.relu(self.conv1(x)))#[3]\n",
        "        x = self.pool(torch.relu(self.conv2(x)))#[3]\n",
        "        x = x.view(-1, 32 * 12 * 12)#[3]\n",
        "        x = torch.relu(self.fc1(x))#[3]\n",
        "        x = self.fc2(x)#[3]\n",
        "        return x\n",
        "\n",
        "cnn = CNN()\n"
      ],
      "metadata": {
        "id": "z-KQq8IGYYPq"
      },
      "execution_count": null,
      "outputs": []
    },
    {
      "cell_type": "code",
      "source": [
        "# the loss function and optimizer\n",
        "criterion = nn.CrossEntropyLoss()#[3] \n",
        "optimizer = optim.SGD(cnn.parameters(), lr=0.01, momentum=0.9)#[3]"
      ],
      "metadata": {
        "id": "UzSqm2YuZOk3"
      },
      "execution_count": null,
      "outputs": []
    },
    {
      "cell_type": "code",
      "source": [
        "train_loss_values = []\n",
        "train_accuracy_values = []\n",
        "val_loss_values = []\n",
        "val_accuracy_values = []\n",
        "\n",
        "epochs = 10 #number of epochs 10\n",
        "batch_size = 32 #batch size set to 32\n",
        "\n",
        "train_loader = DataLoader(train_data, batch_size=batch_size, shuffle=True)#[3]\n",
        "val_loader = DataLoader(val_data, batch_size=batch_size, shuffle=False)#[3]\n",
        "\n",
        "\n",
        "for epoch in range(epochs):#[3]\n",
        "    val_loss = 0.0 #[3]\n",
        "    running_loss = 0.0 #[3]\n",
        "    train_correct = 0 #[3]\n",
        "    train_total = 0#[3]\n",
        "    cnn.train()#[3]\n",
        "    for i, (inputs, labels) in enumerate(train_loader):#[3]\n",
        "        optimizer.zero_grad()#[3]\n",
        "        outputs = cnn(inputs)#[3]\n",
        "        loss = criterion(outputs, labels)#[3]\n",
        "        loss.backward()#[3]\n",
        "        optimizer.step()#[3]\n",
        "        running_loss += loss.item()#[3]\n",
        "\n",
        "        _, predicted = torch.max(outputs.data, 1)#[3]\n",
        "        train_total += labels.size(0)#[3]\n",
        "        train_correct += (predicted == labels).sum().item()#[3]\n",
        "    train_accuracy = 100 * train_correct / train_total#[3]]#added training accuracy\n",
        "    train_loss = running_loss / len(train_loader)#[3]\n",
        "    train_loss_values.append(train_loss)#[3]\n",
        "    train_accuracy_values.append(train_accuracy)#[3]\n",
        "\n",
        "    cnn.eval()#[3]\n",
        "    val_correct = 0#[3]\n",
        "    val_total = 0#[3]\n",
        "    with torch.no_grad():#[3]\n",
        "        for images, labels in val_loader:#[3]\n",
        "            outputs = cnn(images)#[3]\n",
        "            loss = criterion(outputs, labels)#[3]\n",
        "            val_loss += loss.item()#[3]\n",
        "            _, predicted = torch.max(outputs.data, 1)#[3]\n",
        "            val_total += labels.size(0)#[3]\n",
        "            val_correct += (predicted == labels).sum().item()#[3]\n",
        "\n",
        "    val_accuracy = 100 * val_correct / val_total#[3]\n",
        "    val_loss = val_loss / len(val_loader)#[3] #added validation loss\n",
        "    val_loss_values.append(val_loss)#[3]\n",
        "    val_accuracy_values.append(val_accuracy)#[3]\n",
        "\n",
        "    print(f\"Epoch [{epoch+1}/{epochs}], \"\n",
        "          f\"Train Loss: {train_loss:.2f}, Train Accuracy: {train_accuracy:.2f}%, \"\n",
        "          f\"Val Loss: {val_loss:.2f}, Val Accuracy: {val_accuracy:.2f}%\")#[3] \n",
        "\n"
      ],
      "metadata": {
        "colab": {
          "base_uri": "https://localhost:8080/"
        },
        "id": "LmuDb6F9ZTJv",
        "outputId": "b17da2af-c929-4f49-f566-64e0e4d96e9c"
      },
      "execution_count": null,
      "outputs": [
        {
          "output_type": "stream",
          "name": "stdout",
          "text": [
            "Epoch [1/10], Train Loss: 1.69, Train Accuracy: 32.40%, Val Loss: 1.58, Val Accuracy: 38.04%\n",
            "Epoch [2/10], Train Loss: 1.49, Train Accuracy: 42.41%, Val Loss: 1.39, Val Accuracy: 47.14%\n",
            "Epoch [3/10], Train Loss: 1.39, Train Accuracy: 46.41%, Val Loss: 1.32, Val Accuracy: 48.73%\n",
            "Epoch [4/10], Train Loss: 1.32, Train Accuracy: 49.48%, Val Loss: 1.26, Val Accuracy: 51.15%\n",
            "Epoch [5/10], Train Loss: 1.26, Train Accuracy: 51.76%, Val Loss: 1.23, Val Accuracy: 53.37%\n",
            "Epoch [6/10], Train Loss: 1.21, Train Accuracy: 53.67%, Val Loss: 1.20, Val Accuracy: 54.68%\n",
            "Epoch [7/10], Train Loss: 1.17, Train Accuracy: 55.45%, Val Loss: 1.19, Val Accuracy: 55.08%\n",
            "Epoch [8/10], Train Loss: 1.13, Train Accuracy: 56.84%, Val Loss: 1.21, Val Accuracy: 55.42%\n",
            "Epoch [9/10], Train Loss: 1.09, Train Accuracy: 58.47%, Val Loss: 1.20, Val Accuracy: 55.45%\n",
            "Epoch [10/10], Train Loss: 1.06, Train Accuracy: 59.90%, Val Loss: 1.19, Val Accuracy: 56.40%\n"
          ]
        }
      ]
    },
    {
      "cell_type": "code",
      "source": [
        "plt.figure(figsize=(10, 5))\n",
        "# Plot training and validation accuracy values\n",
        "plt.plot(train_accuracy_values, label='Training Accuracy')\n",
        "plt.plot(val_accuracy_values, label='Validation Accuracy')\n",
        "plt.xlabel('Epoch')\n",
        "plt.ylabel('Accuracy')\n",
        "plt.legend()\n",
        "plt.show()\n",
        "\n",
        "# Plot training and validation loss values\n",
        "plt.plot(train_loss_values, label='Training Loss')\n",
        "plt.plot(val_loss_values, label='Validation Loss')\n",
        "plt.xlabel('Epoch')\n",
        "plt.ylabel('Loss')\n",
        "plt.legend()\n",
        "plt.show()\n"
      ],
      "metadata": {
        "colab": {
          "base_uri": "https://localhost:8080/",
          "height": 596
        },
        "id": "LBfCy2ywencj",
        "outputId": "7bcdca3e-0981-4a84-df24-9ee305ddf531"
      },
      "execution_count": null,
      "outputs": [
        {
          "output_type": "display_data",
          "data": {
            "text/plain": [
              "<Figure size 720x360 with 1 Axes>"
            ],
            "image/png": "[encoded data removed]"
          },
          "metadata": {
            "needs_background": "light"
          }
        },
        {
          "output_type": "display_data",
          "data": {
            "text/plain": [
              "<Figure size 432x288 with 1 Axes>"
            ],
            "image/png": "[encoded data removed]"
          },
          "metadata": {
            "needs_background": "light"
          }
        }
      ]
    },
    {
      "cell_type": "markdown",
      "source": [
        "**References:**\n",
        "\n",
        "[1]: the article \"Transfer Learning with PyTorch\" by Pranjal Sharma on Towards Data Science.\n",
        "#https://towardsdatascience.com/transfer-learning-with-pytorch-95dd5dca82a\n",
        "\n",
        "[2]:\"PyTorch: Data loading and preprocess tutorial  #https://jhui.github.io/2018/02/09/PyTorch-Data-loading-preprocess_torchvision/\n",
        "\n",
        "[3]: Deep Learning Wizard. (n.d.). PyTorch \n",
        "Convolutional Neural Network Tutorial. Retrieved March 18, 2023, from https://www.deeplearningwizard.com/deep_learning/practical_pytorch/pytorch_convolutional_neuralnetwork/\n",
        "\n"
      ],
      "metadata": {
        "id": "198ZfHXbAXDK"
      }
    }
  ]
}